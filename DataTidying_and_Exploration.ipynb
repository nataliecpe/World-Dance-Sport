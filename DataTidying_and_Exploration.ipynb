{
 "cells": [
  {
   "cell_type": "markdown",
   "metadata": {},
   "source": [
    "# Part II: Tidying the Data\n",
    "\n",
    "Competition data has been collected from the API and written into CSV files. There may be missing data that needs to be dealt with, and there may be data that needs to be changed into a format that is usable for analysis with Pandas."
   ]
  },
  {
   "cell_type": "code",
   "execution_count": 1,
   "metadata": {},
   "outputs": [],
   "source": [
    "# import needed packages\n",
    "\n",
    "import pandas as pd\n",
    "import numpy as np\n",
    "import scikit_posthocs as sp\n",
    "import json\n",
    "import csv"
   ]
  },
  {
   "cell_type": "code",
   "execution_count": 2,
   "metadata": {},
   "outputs": [],
   "source": [
    "# open csv files containing the competition data and convert into data frames\n",
    "\n",
    "comp_df1 = pd.read_csv('competitionstats.csv')\n",
    "comp_df2 = pd.read_csv('competitionstats2.csv')\n",
    "comp_df3 = pd.read_csv('competitionstats3.csv')\n",
    "comp_df4 = pd.read_csv('competitionstats4.csv')\n",
    "comp_df5 = pd.read_csv('competitionstats5.csv')"
   ]
  },
  {
   "cell_type": "code",
   "execution_count": 3,
   "metadata": {},
   "outputs": [],
   "source": [
    "# combine all data frames\n",
    "comp_df = pd.concat([comp_df1, comp_df2, comp_df3, comp_df4, comp_df5])"
   ]
  },
  {
   "cell_type": "markdown",
   "metadata": {},
   "source": [
    "### Adding Competition Dates to the Data Frame:"
   ]
  },
  {
   "cell_type": "code",
   "execution_count": 7,
   "metadata": {},
   "outputs": [],
   "source": [
    "import requests\n",
    "\n",
    "url = \"https://services.worlddancesport.org/api/1/competition\"\n",
    "params = {'format':'json'}\n",
    "    \n",
    "# request to competition information page\n",
    "r = requests.get(url, params=params, auth=('natalie314', '1O13!o13'))"
   ]
  },
  {
   "cell_type": "code",
   "execution_count": 8,
   "metadata": {},
   "outputs": [],
   "source": [
    "js = r.json()"
   ]
  },
  {
   "cell_type": "code",
   "execution_count": 9,
   "metadata": {},
   "outputs": [
    {
     "data": {
      "text/plain": [
       "{'link': [{'href': 'https://services.worlddancesport.org/api/1/competition/35093',\n",
       "   'rel': 'self'},\n",
       "  {'href': 'https://services.worlddancesport.org/api/1/participant?competitionId=35093',\n",
       "   'rel': 'http://services.worlddancesport.org/rel/competition/participants',\n",
       "   'type': 'application/vnd.worlddancesport.participants+json'},\n",
       "  {'href': 'https://services.worlddancesport.org/api/1/official?competitionId=35093',\n",
       "   'rel': 'http://services.worlddancesport.org/rel/competition/officials',\n",
       "   'type': 'application/vnd.worlddancesport.officials+json'}],\n",
       " 'id': 35093,\n",
       " 'name': 'INTERNATIONAL OPEN STANDARD  ADULT - Finland - Finland - 1996/01/04',\n",
       " 'lastmodifiedDate': '2010-11-13T10:16:26'}"
      ]
     },
     "execution_count": 9,
     "metadata": {},
     "output_type": "execute_result"
    }
   ],
   "source": [
    "# view example\n",
    "js[0]"
   ]
  },
  {
   "cell_type": "markdown",
   "metadata": {},
   "source": [
    "The date of the competition is under 'name'."
   ]
  },
  {
   "cell_type": "code",
   "execution_count": 10,
   "metadata": {},
   "outputs": [],
   "source": [
    "# convert json data into pandas data frame\n",
    "dates_df = pd.DataFrame(js)\n",
    "\n",
    "names = dates_df['name']\n",
    "\n",
    "# extract the date from the \"name\" column of the data frame\n",
    "# the date is the last 10 characters of the string\n",
    "dates_df['date'] = dates_df['name'].str[-10:]\n",
    "\n",
    "dates_df = dates_df[['id','date']]\n",
    "\n",
    "# add the \"date\" column to our main competition data frame, using the competition IDs corresponding to the dates\n",
    "comp_df = pd.merge(comp_df, dates_df, left_on = 'competitionId', right_on = 'id', how = 'left')"
   ]
  },
  {
   "cell_type": "code",
   "execution_count": 15,
   "metadata": {
    "scrolled": false
   },
   "outputs": [
    {
     "data": {
      "text/html": [
       "<div>\n",
       "<style scoped>\n",
       "    .dataframe tbody tr th:only-of-type {\n",
       "        vertical-align: middle;\n",
       "    }\n",
       "\n",
       "    .dataframe tbody tr th {\n",
       "        vertical-align: top;\n",
       "    }\n",
       "\n",
       "    .dataframe thead th {\n",
       "        text-align: right;\n",
       "    }\n",
       "</style>\n",
       "<table border=\"1\" class=\"dataframe\">\n",
       "  <thead>\n",
       "    <tr style=\"text-align: right;\">\n",
       "      <th></th>\n",
       "      <th>coupleId</th>\n",
       "      <th>name</th>\n",
       "      <th>country</th>\n",
       "      <th>id_x</th>\n",
       "      <th>status</th>\n",
       "      <th>basepoints</th>\n",
       "      <th>rank</th>\n",
       "      <th>competitionId</th>\n",
       "      <th>rounds</th>\n",
       "      <th>id_y</th>\n",
       "      <th>date</th>\n",
       "    </tr>\n",
       "  </thead>\n",
       "  <tbody>\n",
       "    <tr>\n",
       "      <th>0</th>\n",
       "      <td>wdsf-453999</td>\n",
       "      <td>Vesa Anttila - Tuula Raukovaara</td>\n",
       "      <td>Finland</td>\n",
       "      <td>885401</td>\n",
       "      <td>Present</td>\n",
       "      <td>0</td>\n",
       "      <td>1</td>\n",
       "      <td>35093</td>\n",
       "      <td>[]</td>\n",
       "      <td>35093</td>\n",
       "      <td>1996/01/04</td>\n",
       "    </tr>\n",
       "    <tr>\n",
       "      <th>1</th>\n",
       "      <td>wdsf-449387</td>\n",
       "      <td>Peep Vardja - Vardja, Ave</td>\n",
       "      <td>Finland</td>\n",
       "      <td>885400</td>\n",
       "      <td>Present</td>\n",
       "      <td>0</td>\n",
       "      <td>2</td>\n",
       "      <td>35093</td>\n",
       "      <td>[]</td>\n",
       "      <td>35093</td>\n",
       "      <td>1996/01/04</td>\n",
       "    </tr>\n",
       "  </tbody>\n",
       "</table>\n",
       "</div>"
      ],
      "text/plain": [
       "      coupleId                             name  country    id_x   status  \\\n",
       "0  wdsf-453999  Vesa Anttila - Tuula Raukovaara  Finland  885401  Present   \n",
       "1  wdsf-449387        Peep Vardja - Vardja, Ave  Finland  885400  Present   \n",
       "\n",
       "   basepoints  rank  competitionId rounds   id_y        date  \n",
       "0           0     1          35093     []  35093  1996/01/04  \n",
       "1           0     2          35093     []  35093  1996/01/04  "
      ]
     },
     "execution_count": 15,
     "metadata": {},
     "output_type": "execute_result"
    }
   ],
   "source": [
    "# view example\n",
    "comp_df.head(2)"
   ]
  },
  {
   "cell_type": "code",
   "execution_count": 19,
   "metadata": {},
   "outputs": [],
   "source": [
    "# delete the duplicate competition ID column\n",
    "comp_df = comp_df.drop('id_y', 1)\n",
    "\n",
    "# remove all participants that were not present\n",
    "comp_df = comp_df[comp_df['status'] == \"Present\"]\n",
    "\n",
    "# delete the \"status\" column\n",
    "comp_df = comp_df.drop('status', 1)"
   ]
  },
  {
   "cell_type": "markdown",
   "metadata": {},
   "source": [
    "### Adding Dance Genres to the Data Frame"
   ]
  },
  {
   "cell_type": "markdown",
   "metadata": {},
   "source": [
    "The entries in the \"rounds\" column are formatted as strings. The dance genres of the corresponding competition are found within those strings. "
   ]
  },
  {
   "cell_type": "code",
   "execution_count": 21,
   "metadata": {},
   "outputs": [],
   "source": [
    "# create a list of dance styles, to be used to extract the dance styles for each participant\n",
    "dances = [\"QUICKSTEP\", \"TANGO\", \"FOXTROT\", \"SALSA\", \"SAMBA\", \"RUMBA\", \"VIENNESE WALTZ\", \"WALTZ\", \"SLOW FOXTROT\", \"BOLERO\", \n",
    "          \"CHA CHA CHA\", \"BACHATA\", \"MAMBO\", \"PASO DOBLE\", \"JIVE\", \"EAST COAST SWING\", \"MERENGUE\", \"SHOWDANCE\", \"BREAKING\",\n",
    "          \"BOOGIE\", \"HIP HOP\", \"MODERN\", \"JAZZ\", \"DISCO\", \"LINDY\", \"BALBOA\", \"CHARLESTON\", \"SHAG\", \"JITTERBUG\", \"LOCKING\", \n",
    "          \"POPPING\", \"ELECTRIC BOOGALOO\", \"CHA CHA\"]\n",
    "\n",
    "#find the dance styles in the \"rounds\" column, then extract a list of dance styles into a new column\n",
    "comp_df['dances'] = comp_df['rounds'].str.findall('|'.join(dances))"
   ]
  },
  {
   "cell_type": "code",
   "execution_count": 22,
   "metadata": {},
   "outputs": [
    {
     "data": {
      "text/html": [
       "<div>\n",
       "<style scoped>\n",
       "    .dataframe tbody tr th:only-of-type {\n",
       "        vertical-align: middle;\n",
       "    }\n",
       "\n",
       "    .dataframe tbody tr th {\n",
       "        vertical-align: top;\n",
       "    }\n",
       "\n",
       "    .dataframe thead th {\n",
       "        text-align: right;\n",
       "    }\n",
       "</style>\n",
       "<table border=\"1\" class=\"dataframe\">\n",
       "  <thead>\n",
       "    <tr style=\"text-align: right;\">\n",
       "      <th></th>\n",
       "      <th>coupleId</th>\n",
       "      <th>name</th>\n",
       "      <th>country</th>\n",
       "      <th>id_x</th>\n",
       "      <th>basepoints</th>\n",
       "      <th>rank</th>\n",
       "      <th>competitionId</th>\n",
       "      <th>rounds</th>\n",
       "      <th>date</th>\n",
       "      <th>dances</th>\n",
       "    </tr>\n",
       "  </thead>\n",
       "  <tbody>\n",
       "    <tr>\n",
       "      <th>540709</th>\n",
       "      <td>rls-21430</td>\n",
       "      <td>Ravai Mauro - Concetta Carbone</td>\n",
       "      <td>Italy</td>\n",
       "      <td>1870232</td>\n",
       "      <td>68</td>\n",
       "      <td>18</td>\n",
       "      <td>50954</td>\n",
       "      <td>[{'name': '1', 'maxDeviation': None, 'dances':...</td>\n",
       "      <td>2017/11/24</td>\n",
       "      <td>[QUICKSTEP, SLOW FOXTROT, TANGO, VIENNESE WALT...</td>\n",
       "    </tr>\n",
       "    <tr>\n",
       "      <th>540710</th>\n",
       "      <td>rls-50105</td>\n",
       "      <td>Silvano Saccon - Nadia Petejan</td>\n",
       "      <td>Italy</td>\n",
       "      <td>1870217</td>\n",
       "      <td>66</td>\n",
       "      <td>19</td>\n",
       "      <td>50954</td>\n",
       "      <td>[{'name': '1', 'maxDeviation': None, 'dances':...</td>\n",
       "      <td>2017/11/24</td>\n",
       "      <td>[QUICKSTEP, SLOW FOXTROT, TANGO, VIENNESE WALT...</td>\n",
       "    </tr>\n",
       "    <tr>\n",
       "      <th>540711</th>\n",
       "      <td>rls-28900</td>\n",
       "      <td>Elio Ferraioli - Pia Avallone</td>\n",
       "      <td>Italy</td>\n",
       "      <td>1870204</td>\n",
       "      <td>64</td>\n",
       "      <td>20</td>\n",
       "      <td>50954</td>\n",
       "      <td>[{'name': '1', 'maxDeviation': None, 'dances':...</td>\n",
       "      <td>2017/11/24</td>\n",
       "      <td>[QUICKSTEP, SLOW FOXTROT, TANGO, VIENNESE WALT...</td>\n",
       "    </tr>\n",
       "    <tr>\n",
       "      <th>540712</th>\n",
       "      <td>rls-53929</td>\n",
       "      <td>Alfredo Faelli - Mariagrazia Rosagni</td>\n",
       "      <td>Italy</td>\n",
       "      <td>1870208</td>\n",
       "      <td>62</td>\n",
       "      <td>21</td>\n",
       "      <td>50954</td>\n",
       "      <td>[{'name': '1', 'maxDeviation': None, 'dances':...</td>\n",
       "      <td>2017/11/24</td>\n",
       "      <td>[QUICKSTEP, SLOW FOXTROT, TANGO, VIENNESE WALT...</td>\n",
       "    </tr>\n",
       "    <tr>\n",
       "      <th>540713</th>\n",
       "      <td>rls-21032</td>\n",
       "      <td>Jean-louis Morel - Monique Deghaye</td>\n",
       "      <td>Belgium</td>\n",
       "      <td>1870212</td>\n",
       "      <td>60</td>\n",
       "      <td>22</td>\n",
       "      <td>50954</td>\n",
       "      <td>[{'name': '1', 'maxDeviation': None, 'dances':...</td>\n",
       "      <td>2017/11/24</td>\n",
       "      <td>[QUICKSTEP, SLOW FOXTROT, TANGO, VIENNESE WALT...</td>\n",
       "    </tr>\n",
       "    <tr>\n",
       "      <th>540714</th>\n",
       "      <td>rls-28816</td>\n",
       "      <td>Giordano Ermini - Nicoletta Gori</td>\n",
       "      <td>Italy</td>\n",
       "      <td>1870209</td>\n",
       "      <td>58</td>\n",
       "      <td>23</td>\n",
       "      <td>50954</td>\n",
       "      <td>[{'name': '1', 'maxDeviation': None, 'dances':...</td>\n",
       "      <td>2017/11/24</td>\n",
       "      <td>[QUICKSTEP, SLOW FOXTROT, TANGO, VIENNESE WALT...</td>\n",
       "    </tr>\n",
       "    <tr>\n",
       "      <th>540715</th>\n",
       "      <td>rls-60290</td>\n",
       "      <td>Michele De Bartolo - Gloria Gessaga</td>\n",
       "      <td>Italy</td>\n",
       "      <td>1870211</td>\n",
       "      <td>55</td>\n",
       "      <td>24</td>\n",
       "      <td>50954</td>\n",
       "      <td>[{'name': '1', 'maxDeviation': None, 'dances':...</td>\n",
       "      <td>2017/11/24</td>\n",
       "      <td>[QUICKSTEP, SLOW FOXTROT, TANGO, VIENNESE WALT...</td>\n",
       "    </tr>\n",
       "    <tr>\n",
       "      <th>540716</th>\n",
       "      <td>rls-21361</td>\n",
       "      <td>Livio Bagiolo - Maria Mara Zaza</td>\n",
       "      <td>Italy</td>\n",
       "      <td>1870231</td>\n",
       "      <td>55</td>\n",
       "      <td>24</td>\n",
       "      <td>50954</td>\n",
       "      <td>[{'name': '1', 'maxDeviation': None, 'dances':...</td>\n",
       "      <td>2017/11/24</td>\n",
       "      <td>[QUICKSTEP, SLOW FOXTROT, TANGO, VIENNESE WALT...</td>\n",
       "    </tr>\n",
       "  </tbody>\n",
       "</table>\n",
       "</div>"
      ],
      "text/plain": [
       "         coupleId                                  name  country     id_x  \\\n",
       "540709  rls-21430        Ravai Mauro - Concetta Carbone    Italy  1870232   \n",
       "540710  rls-50105        Silvano Saccon - Nadia Petejan    Italy  1870217   \n",
       "540711  rls-28900         Elio Ferraioli - Pia Avallone    Italy  1870204   \n",
       "540712  rls-53929  Alfredo Faelli - Mariagrazia Rosagni    Italy  1870208   \n",
       "540713  rls-21032    Jean-louis Morel - Monique Deghaye  Belgium  1870212   \n",
       "540714  rls-28816      Giordano Ermini - Nicoletta Gori    Italy  1870209   \n",
       "540715  rls-60290   Michele De Bartolo - Gloria Gessaga    Italy  1870211   \n",
       "540716  rls-21361       Livio Bagiolo - Maria Mara Zaza    Italy  1870231   \n",
       "\n",
       "        basepoints  rank  competitionId  \\\n",
       "540709          68    18          50954   \n",
       "540710          66    19          50954   \n",
       "540711          64    20          50954   \n",
       "540712          62    21          50954   \n",
       "540713          60    22          50954   \n",
       "540714          58    23          50954   \n",
       "540715          55    24          50954   \n",
       "540716          55    24          50954   \n",
       "\n",
       "                                                   rounds        date  \\\n",
       "540709  [{'name': '1', 'maxDeviation': None, 'dances':...  2017/11/24   \n",
       "540710  [{'name': '1', 'maxDeviation': None, 'dances':...  2017/11/24   \n",
       "540711  [{'name': '1', 'maxDeviation': None, 'dances':...  2017/11/24   \n",
       "540712  [{'name': '1', 'maxDeviation': None, 'dances':...  2017/11/24   \n",
       "540713  [{'name': '1', 'maxDeviation': None, 'dances':...  2017/11/24   \n",
       "540714  [{'name': '1', 'maxDeviation': None, 'dances':...  2017/11/24   \n",
       "540715  [{'name': '1', 'maxDeviation': None, 'dances':...  2017/11/24   \n",
       "540716  [{'name': '1', 'maxDeviation': None, 'dances':...  2017/11/24   \n",
       "\n",
       "                                                   dances  \n",
       "540709  [QUICKSTEP, SLOW FOXTROT, TANGO, VIENNESE WALT...  \n",
       "540710  [QUICKSTEP, SLOW FOXTROT, TANGO, VIENNESE WALT...  \n",
       "540711  [QUICKSTEP, SLOW FOXTROT, TANGO, VIENNESE WALT...  \n",
       "540712  [QUICKSTEP, SLOW FOXTROT, TANGO, VIENNESE WALT...  \n",
       "540713  [QUICKSTEP, SLOW FOXTROT, TANGO, VIENNESE WALT...  \n",
       "540714  [QUICKSTEP, SLOW FOXTROT, TANGO, VIENNESE WALT...  \n",
       "540715  [QUICKSTEP, SLOW FOXTROT, TANGO, VIENNESE WALT...  \n",
       "540716  [QUICKSTEP, SLOW FOXTROT, TANGO, VIENNESE WALT...  "
      ]
     },
     "execution_count": 22,
     "metadata": {},
     "output_type": "execute_result"
    }
   ],
   "source": [
    "# view example\n",
    "comp_df.loc[540709:540716]"
   ]
  },
  {
   "cell_type": "markdown",
   "metadata": {},
   "source": [
    "It may be easier to use the dance genres for analysis later if the entries in the \"dances\" column are not lists. This column can be separated so that there is only one string for each entry in multiple dance genre columns."
   ]
  },
  {
   "cell_type": "code",
   "execution_count": 25,
   "metadata": {},
   "outputs": [],
   "source": [
    "# delete the repeated elements of the lists in the \"dances\" column\n",
    "comp_df['dances'] = comp_df['dances'].apply(lambda x: list(set(x)))\n",
    "\n",
    "# create one column for each element under the lists in \"dances\"\n",
    "dances_cols = comp_df['dances'].apply(pd.Series, dtype='object')\n",
    "\n",
    "# add the individual dance style columns to our main competition dataframe \n",
    "comp_df = pd.concat([comp_df, dances_cols], axis=1)"
   ]
  },
  {
   "cell_type": "code",
   "execution_count": 26,
   "metadata": {},
   "outputs": [
    {
     "name": "stderr",
     "output_type": "stream",
     "text": [
      "C:\\Users\\Natalie\\AppData\\Local\\Temp\\ipykernel_30332\\1292938377.py:2: FutureWarning: In a future version of pandas all arguments of DataFrame.drop except for the argument 'labels' will be keyword-only.\n",
      "  comp_df = comp_df.drop('dances', 1)\n"
     ]
    },
    {
     "data": {
      "text/html": [
       "<div>\n",
       "<style scoped>\n",
       "    .dataframe tbody tr th:only-of-type {\n",
       "        vertical-align: middle;\n",
       "    }\n",
       "\n",
       "    .dataframe tbody tr th {\n",
       "        vertical-align: top;\n",
       "    }\n",
       "\n",
       "    .dataframe thead th {\n",
       "        text-align: right;\n",
       "    }\n",
       "</style>\n",
       "<table border=\"1\" class=\"dataframe\">\n",
       "  <thead>\n",
       "    <tr style=\"text-align: right;\">\n",
       "      <th></th>\n",
       "      <th>coupleId</th>\n",
       "      <th>name</th>\n",
       "      <th>country</th>\n",
       "      <th>id_x</th>\n",
       "      <th>basepoints</th>\n",
       "      <th>rank</th>\n",
       "      <th>competitionId</th>\n",
       "      <th>rounds</th>\n",
       "      <th>date</th>\n",
       "      <th>0</th>\n",
       "      <th>1</th>\n",
       "      <th>2</th>\n",
       "      <th>3</th>\n",
       "      <th>4</th>\n",
       "      <th>5</th>\n",
       "      <th>6</th>\n",
       "      <th>7</th>\n",
       "      <th>8</th>\n",
       "      <th>9</th>\n",
       "    </tr>\n",
       "  </thead>\n",
       "  <tbody>\n",
       "    <tr>\n",
       "      <th>540709</th>\n",
       "      <td>rls-21430</td>\n",
       "      <td>Ravai Mauro - Concetta Carbone</td>\n",
       "      <td>Italy</td>\n",
       "      <td>1870232</td>\n",
       "      <td>68</td>\n",
       "      <td>18</td>\n",
       "      <td>50954</td>\n",
       "      <td>[{'name': '1', 'maxDeviation': None, 'dances':...</td>\n",
       "      <td>2017/11/24</td>\n",
       "      <td>QUICKSTEP</td>\n",
       "      <td>SLOW FOXTROT</td>\n",
       "      <td>WALTZ</td>\n",
       "      <td>VIENNESE WALTZ</td>\n",
       "      <td>TANGO</td>\n",
       "      <td>NaN</td>\n",
       "      <td>NaN</td>\n",
       "      <td>NaN</td>\n",
       "      <td>NaN</td>\n",
       "      <td>NaN</td>\n",
       "    </tr>\n",
       "    <tr>\n",
       "      <th>540710</th>\n",
       "      <td>rls-50105</td>\n",
       "      <td>Silvano Saccon - Nadia Petejan</td>\n",
       "      <td>Italy</td>\n",
       "      <td>1870217</td>\n",
       "      <td>66</td>\n",
       "      <td>19</td>\n",
       "      <td>50954</td>\n",
       "      <td>[{'name': '1', 'maxDeviation': None, 'dances':...</td>\n",
       "      <td>2017/11/24</td>\n",
       "      <td>QUICKSTEP</td>\n",
       "      <td>SLOW FOXTROT</td>\n",
       "      <td>WALTZ</td>\n",
       "      <td>VIENNESE WALTZ</td>\n",
       "      <td>TANGO</td>\n",
       "      <td>NaN</td>\n",
       "      <td>NaN</td>\n",
       "      <td>NaN</td>\n",
       "      <td>NaN</td>\n",
       "      <td>NaN</td>\n",
       "    </tr>\n",
       "    <tr>\n",
       "      <th>540711</th>\n",
       "      <td>rls-28900</td>\n",
       "      <td>Elio Ferraioli - Pia Avallone</td>\n",
       "      <td>Italy</td>\n",
       "      <td>1870204</td>\n",
       "      <td>64</td>\n",
       "      <td>20</td>\n",
       "      <td>50954</td>\n",
       "      <td>[{'name': '1', 'maxDeviation': None, 'dances':...</td>\n",
       "      <td>2017/11/24</td>\n",
       "      <td>QUICKSTEP</td>\n",
       "      <td>SLOW FOXTROT</td>\n",
       "      <td>WALTZ</td>\n",
       "      <td>VIENNESE WALTZ</td>\n",
       "      <td>TANGO</td>\n",
       "      <td>NaN</td>\n",
       "      <td>NaN</td>\n",
       "      <td>NaN</td>\n",
       "      <td>NaN</td>\n",
       "      <td>NaN</td>\n",
       "    </tr>\n",
       "  </tbody>\n",
       "</table>\n",
       "</div>"
      ],
      "text/plain": [
       "         coupleId                            name country     id_x  \\\n",
       "540709  rls-21430  Ravai Mauro - Concetta Carbone   Italy  1870232   \n",
       "540710  rls-50105  Silvano Saccon - Nadia Petejan   Italy  1870217   \n",
       "540711  rls-28900   Elio Ferraioli - Pia Avallone   Italy  1870204   \n",
       "\n",
       "        basepoints  rank  competitionId  \\\n",
       "540709          68    18          50954   \n",
       "540710          66    19          50954   \n",
       "540711          64    20          50954   \n",
       "\n",
       "                                                   rounds        date  \\\n",
       "540709  [{'name': '1', 'maxDeviation': None, 'dances':...  2017/11/24   \n",
       "540710  [{'name': '1', 'maxDeviation': None, 'dances':...  2017/11/24   \n",
       "540711  [{'name': '1', 'maxDeviation': None, 'dances':...  2017/11/24   \n",
       "\n",
       "                0             1      2               3      4    5    6    7  \\\n",
       "540709  QUICKSTEP  SLOW FOXTROT  WALTZ  VIENNESE WALTZ  TANGO  NaN  NaN  NaN   \n",
       "540710  QUICKSTEP  SLOW FOXTROT  WALTZ  VIENNESE WALTZ  TANGO  NaN  NaN  NaN   \n",
       "540711  QUICKSTEP  SLOW FOXTROT  WALTZ  VIENNESE WALTZ  TANGO  NaN  NaN  NaN   \n",
       "\n",
       "          8    9  \n",
       "540709  NaN  NaN  \n",
       "540710  NaN  NaN  \n",
       "540711  NaN  NaN  "
      ]
     },
     "execution_count": 26,
     "metadata": {},
     "output_type": "execute_result"
    }
   ],
   "source": [
    "# view example\n",
    "comp_df = comp_df.drop('dances', 1)\n",
    "comp_df.loc[540709:540711]"
   ]
  },
  {
   "cell_type": "code",
   "execution_count": 28,
   "metadata": {},
   "outputs": [],
   "source": [
    "# rename dance style columns\n",
    "comp_df = comp_df.rename(columns={0: 'dance1', 1: 'dance2', 2: 'dance3', 3: 'dance4', 4: 'dance5', 5: 'dance6', 6: 'dance7',\n",
    "                        7: 'dance8', 8: 'dance9', 9: 'dance10',})"
   ]
  },
  {
   "cell_type": "markdown",
   "metadata": {},
   "source": [
    "Because each competition has a different number of participants, the average rank for a couple is not meaningful (being in 3rd place in a competition with 5 participants is different than being in 3rd place in a competition with 50 participants). I will divide each participant's rank by the number of total participants in the competition to get a new rank that can be used later when analyzing data."
   ]
  },
  {
   "cell_type": "code",
   "execution_count": 29,
   "metadata": {},
   "outputs": [
    {
     "data": {
      "text/html": [
       "<div>\n",
       "<style scoped>\n",
       "    .dataframe tbody tr th:only-of-type {\n",
       "        vertical-align: middle;\n",
       "    }\n",
       "\n",
       "    .dataframe tbody tr th {\n",
       "        vertical-align: top;\n",
       "    }\n",
       "\n",
       "    .dataframe thead th {\n",
       "        text-align: right;\n",
       "    }\n",
       "</style>\n",
       "<table border=\"1\" class=\"dataframe\">\n",
       "  <thead>\n",
       "    <tr style=\"text-align: right;\">\n",
       "      <th></th>\n",
       "      <th>competitionId</th>\n",
       "      <th>partic_count</th>\n",
       "    </tr>\n",
       "  </thead>\n",
       "  <tbody>\n",
       "    <tr>\n",
       "      <th>0</th>\n",
       "      <td>39570</td>\n",
       "      <td>448</td>\n",
       "    </tr>\n",
       "  </tbody>\n",
       "</table>\n",
       "</div>"
      ],
      "text/plain": [
       "   competitionId  partic_count\n",
       "0          39570           448"
      ]
     },
     "execution_count": 29,
     "metadata": {},
     "output_type": "execute_result"
    }
   ],
   "source": [
    "# create a participant count data frame\n",
    "comp_counts = comp_df['competitionId'].value_counts()\n",
    "comp_counts = pd.DataFrame(comp_counts).reset_index()\n",
    "comp_counts = comp_counts.rename(columns={'index':'competitionId', 'competitionId':'partic_count'})\n",
    "\n",
    "#view example\n",
    "comp_counts.head(1)"
   ]
  },
  {
   "cell_type": "code",
   "execution_count": 31,
   "metadata": {},
   "outputs": [
    {
     "data": {
      "text/html": [
       "<div>\n",
       "<style scoped>\n",
       "    .dataframe tbody tr th:only-of-type {\n",
       "        vertical-align: middle;\n",
       "    }\n",
       "\n",
       "    .dataframe tbody tr th {\n",
       "        vertical-align: top;\n",
       "    }\n",
       "\n",
       "    .dataframe thead th {\n",
       "        text-align: right;\n",
       "    }\n",
       "</style>\n",
       "<table border=\"1\" class=\"dataframe\">\n",
       "  <thead>\n",
       "    <tr style=\"text-align: right;\">\n",
       "      <th></th>\n",
       "      <th>coupleId</th>\n",
       "      <th>name</th>\n",
       "      <th>country</th>\n",
       "      <th>id_x</th>\n",
       "      <th>basepoints</th>\n",
       "      <th>rank</th>\n",
       "      <th>competitionId</th>\n",
       "      <th>rounds</th>\n",
       "      <th>date</th>\n",
       "      <th>dance1</th>\n",
       "      <th>dance2</th>\n",
       "      <th>dance3</th>\n",
       "      <th>dance4</th>\n",
       "      <th>dance5</th>\n",
       "      <th>dance6</th>\n",
       "      <th>dance7</th>\n",
       "      <th>dance8</th>\n",
       "      <th>dance9</th>\n",
       "      <th>dance10</th>\n",
       "      <th>partic_count</th>\n",
       "    </tr>\n",
       "  </thead>\n",
       "  <tbody>\n",
       "    <tr>\n",
       "      <th>0</th>\n",
       "      <td>wdsf-453999</td>\n",
       "      <td>Vesa Anttila - Tuula Raukovaara</td>\n",
       "      <td>Finland</td>\n",
       "      <td>885401</td>\n",
       "      <td>0</td>\n",
       "      <td>1</td>\n",
       "      <td>35093</td>\n",
       "      <td>[]</td>\n",
       "      <td>1996/01/04</td>\n",
       "      <td>NaN</td>\n",
       "      <td>NaN</td>\n",
       "      <td>NaN</td>\n",
       "      <td>NaN</td>\n",
       "      <td>NaN</td>\n",
       "      <td>NaN</td>\n",
       "      <td>NaN</td>\n",
       "      <td>NaN</td>\n",
       "      <td>NaN</td>\n",
       "      <td>NaN</td>\n",
       "      <td>24.0</td>\n",
       "    </tr>\n",
       "  </tbody>\n",
       "</table>\n",
       "</div>"
      ],
      "text/plain": [
       "      coupleId                             name  country    id_x  basepoints  \\\n",
       "0  wdsf-453999  Vesa Anttila - Tuula Raukovaara  Finland  885401           0   \n",
       "\n",
       "   rank  competitionId rounds        date dance1 dance2 dance3 dance4 dance5  \\\n",
       "0     1          35093     []  1996/01/04    NaN    NaN    NaN    NaN    NaN   \n",
       "\n",
       "  dance6 dance7 dance8 dance9 dance10  partic_count  \n",
       "0    NaN    NaN    NaN    NaN     NaN          24.0  "
      ]
     },
     "execution_count": 31,
     "metadata": {},
     "output_type": "execute_result"
    }
   ],
   "source": [
    "# drop all competitions with only one participant\n",
    "comp_counts = comp_counts[comp_counts['partic_count'] > 1]\n",
    "\n",
    "# add participant counts to our main competition data frame\n",
    "comp_df = pd.merge(comp_df, comp_counts, left_on = 'competitionId', right_on = 'competitionId', how = 'left')\n",
    "comp_df.head(1)"
   ]
  },
  {
   "cell_type": "code",
   "execution_count": 32,
   "metadata": {},
   "outputs": [],
   "source": [
    "# get new rank score\n",
    "comp_df['nrank'] = comp_df['rank'] / comp_df['partic_count']\n",
    "\n",
    "# drop all rows where the rank is 0 and less than 1\n",
    "comp_df = comp_df[comp_df['nrank'] > 0]\n",
    "comp_df = comp_df[comp_df['nrank'] <= 1]"
   ]
  },
  {
   "cell_type": "markdown",
   "metadata": {},
   "source": [
    "I will solely be analyzing the partner dance competitions for now, so I will create a separate data frame for the partner dance competitions. "
   ]
  },
  {
   "cell_type": "code",
   "execution_count": 478,
   "metadata": {},
   "outputs": [],
   "source": [
    "cplcomp_df = comp_df[comp_df['coupleId'].notna()]\n",
    "\n",
    "# delete \"rounds\" column\n",
    "cplcomp_df = cplcomp_df.drop('rounds', 1)"
   ]
  },
  {
   "cell_type": "markdown",
   "metadata": {},
   "source": [
    "# Part 3: Exploratory Data Analysis\n",
    "\n",
    "The purpose of this section is to get a basic understanding the dataset's properties."
   ]
  },
  {
   "cell_type": "code",
   "execution_count": 34,
   "metadata": {},
   "outputs": [
    {
     "data": {
      "text/plain": [
       "BOLERO                  4.0\n",
       "CHA CHA CHA        147966.0\n",
       "FOXTROT                96.0\n",
       "JIVE               147964.0\n",
       "MAMBO                   4.0\n",
       "NONE              4043109.0\n",
       "PASO DOBLE         147665.0\n",
       "QUICKSTEP          167306.0\n",
       "RUMBA              147873.0\n",
       "SALSA                  27.0\n",
       "SAMBA              147943.0\n",
       "SHOWDANCE             520.0\n",
       "SLOW FOXTROT       173444.0\n",
       "TANGO              173817.0\n",
       "VIENNESE WALTZ     173704.0\n",
       "WALTZ              173817.0\n",
       "dtype: float64"
      ]
     },
     "execution_count": 34,
     "metadata": {},
     "output_type": "execute_result"
    }
   ],
   "source": [
    "# replace null values in the dance style columns with the string \"NONE\"\n",
    "cplcomp_df = cplcomp_df.fillna('NONE')\n",
    "\n",
    "# count occurences of the dances styles for each of the \"dance\" columns, and then get the sum of these occurances across all\n",
    "#  \"dance\" columns\n",
    "cplcomp_df.iloc[:, 8:17].apply(pd.value_counts).sum(axis=1)"
   ]
  },
  {
   "cell_type": "markdown",
   "metadata": {},
   "source": [
    "Tango and Waltz are the most common genres of dance, and Mambo and Salsa are the least common."
   ]
  },
  {
   "cell_type": "code",
   "execution_count": 601,
   "metadata": {},
   "outputs": [
    {
     "data": {
      "text/plain": [
       "Russian Federation    139484\n",
       "Italy                  91440\n",
       "Germany                58150\n",
       "Czech Republic         26256\n",
       "Ukraine                20109\n",
       "                       ...  \n",
       "Dominican Republic         1\n",
       "Zimbabwe                   1\n",
       "Monaco                     1\n",
       "Senegal                    1\n",
       "Sri Lanka                  1\n",
       "Name: country, Length: 98, dtype: int64"
      ]
     },
     "execution_count": 601,
     "metadata": {},
     "output_type": "execute_result"
    }
   ],
   "source": [
    "# get number of occurences for each country\n",
    "country_count = cplcomp_df['country'].value_counts()\n",
    "country_count"
   ]
  },
  {
   "cell_type": "markdown",
   "metadata": {},
   "source": [
    "Participants from Russia and Italy have competed in significantly more competitions than participants from any other countries."
   ]
  },
  {
   "cell_type": "code",
   "execution_count": 608,
   "metadata": {},
   "outputs": [
    {
     "data": {
      "text/plain": [
       "[]"
      ]
     },
     "execution_count": 608,
     "metadata": {},
     "output_type": "execute_result"
    },
    {
     "data": {
      "image/png": "[encoded data removed]",
      "text/plain": [
       "<Figure size 720x432 with 1 Axes>"
      ]
     },
     "metadata": {
      "needs_background": "light"
     },
     "output_type": "display_data"
    }
   ],
   "source": [
    "# see how many competitions couples have competed in\n",
    "\n",
    "cpl_count = cplcomp_df['coupleId'].value_counts()\n",
    "\n",
    "ax = cpl_count.plot(style = \"o\", figsize = (10,6))\n",
    "ax.set(title = \"Number of Competitions Couples Have Participated In\", xlabel = \"Couple\", ylabel = \"Number of Competitions\")\n",
    "ax.set_xticks([])"
   ]
  },
  {
   "cell_type": "markdown",
   "metadata": {},
   "source": [
    "The vast majority of couples have competed in less than 50 competitions. The couples that have competed in more than 300 competitions are outliers. "
   ]
  },
  {
   "cell_type": "markdown",
   "metadata": {},
   "source": [
    "### Competition Trends Over Time\n",
    "\n",
    "Listed on their website, part of the World DanceSport Federation's vision is to become more global and appeal to a broad demographic. Using the competition dataset, we can see how many countries have been competing in World DanceSport competitions every year. "
   ]
  },
  {
   "cell_type": "code",
   "execution_count": 270,
   "metadata": {},
   "outputs": [],
   "source": [
    "# convert dates to datetime format\n",
    "cplcomp_df['date'] = pd.to_datetime(cplcomp_df['date'])"
   ]
  },
  {
   "cell_type": "code",
   "execution_count": 446,
   "metadata": {},
   "outputs": [],
   "source": [
    "# create a data frame for the number of countries that appear each year\n",
    "\n",
    "cplcomp_df['year'] = pd.DatetimeIndex(cplcomp_df['date']).year\n",
    "country_year = cplcomp_df[cplcomp_df['country'] != 'NONE']\n",
    "country_year = country_year.groupby(['year', 'country']).country.count()\n",
    "\n",
    "country_year = pd.DataFrame(country_year)"
   ]
  },
  {
   "cell_type": "code",
   "execution_count": 450,
   "metadata": {},
   "outputs": [],
   "source": [
    "country_nums = []\n",
    "\n",
    "# count the number of total countries for each year\n",
    "for i in range(1996,2022):\n",
    "    country_num = len(country_year.loc[(i,)])\n",
    "    country_nums.append(country_num)"
   ]
  },
  {
   "cell_type": "code",
   "execution_count": 493,
   "metadata": {},
   "outputs": [],
   "source": [
    "# create a data frame for the number of competitions each year\n",
    "\n",
    "comps_year = cplcomp_df[['competitionId','year']].groupby('year').count()\n",
    "comps_year = pd.DataFrame(comps_year)"
   ]
  },
  {
   "cell_type": "code",
   "execution_count": 519,
   "metadata": {},
   "outputs": [],
   "source": [
    "comps_nums = []\n",
    "\n",
    "# count the number of total competitions for each year\n",
    "for i in range(1996,2022):\n",
    "    comps_num = comps_year.loc[(i,)]\n",
    "    comps_nums.append(comps_num)"
   ]
  },
  {
   "cell_type": "code",
   "execution_count": 586,
   "metadata": {},
   "outputs": [],
   "source": [
    "nums = [*range(0,50000)]\n",
    "years = [*range(1996, 2022)]"
   ]
  },
  {
   "cell_type": "code",
   "execution_count": 599,
   "metadata": {},
   "outputs": [
    {
     "data": {
      "image/png": "[encoded data removed]",
      "text/plain": [
       "<Figure size 1116x648 with 2 Axes>"
      ]
     },
     "metadata": {
      "needs_background": "light"
     },
     "output_type": "display_data"
    }
   ],
   "source": [
    "# create plot for the number of countries and competitions for each year\n",
    "\n",
    "fig,ax = plt.subplots()\n",
    "ax.plot(years, country_nums, marker = 'o', label = 'Number of Countries')\n",
    "plt.legend(loc = 'upper left')\n",
    "ax.set(ylabel = 'Number of Countries', xlabel = 'Year')\n",
    "ax.set_title('Number of Countries and Competitions Per Year', fontsize = 18)\n",
    "ax.set_xticks(years)\n",
    "ax.set_yticks(np.arange(min(country_nums), max(country_nums), 2.0))\n",
    "ax.grid(True, 'major', 'x', ls = '--', lw = .5, c = 'k', alpha = .3)\n",
    "ax.grid(True, 'major', 'y', ls = '--', lw = .5, c = 'k', alpha = .3)\n",
    "fig.set_size_inches(15.5, 9)\n",
    "ax2 = ax.twinx()\n",
    "ax2.plot(years, comps_nums, color = 'red', marker = 'o', label = 'Number of Competitions')\n",
    "ax2.set(ylabel = 'Number of Competitions')\n",
    "ax2.set_yticks(np.arange(min(nums), max(nums), 2500.0))\n",
    "plt.legend(loc = (0.007,0.9))\n",
    "plt.show()"
   ]
  },
  {
   "cell_type": "markdown",
   "metadata": {},
   "source": [
    "Both the number of countries competing and the number of competitions have trended upwards from 1996 to 2012. The steepest drop is between 2019 to 2020, when COVID-19 began spreading. The drop in the number of competitions was steeper than the drop in the number of countries. There was not an increase in the number of countries competing in 2021, even though the number of competitions increased from 5,000 to 10,000. The World DanceSport Federation's goal of becoming more global peaked in 2011. However even after a large decrease in the number of competitions taking place, there were still over 60 countries being represented in 2020 and 2021."
   ]
  },
  {
   "cell_type": "markdown",
   "metadata": {},
   "source": [
    "# Part III: Finding Factors Related to Competition Performance"
   ]
  },
  {
   "cell_type": "markdown",
   "metadata": {},
   "source": [
    "### How Much Does Frequency of Competing Matter?\n",
    "\n",
    "Do couples that have competed in more competitions tend to have a better average score? Note that a lower \"nrank\" value indicates a better ranking."
   ]
  },
  {
   "cell_type": "code",
   "execution_count": 37,
   "metadata": {},
   "outputs": [
    {
     "data": {
      "text/html": [
       "<div>\n",
       "<style scoped>\n",
       "    .dataframe tbody tr th:only-of-type {\n",
       "        vertical-align: middle;\n",
       "    }\n",
       "\n",
       "    .dataframe tbody tr th {\n",
       "        vertical-align: top;\n",
       "    }\n",
       "\n",
       "    .dataframe thead th {\n",
       "        text-align: right;\n",
       "    }\n",
       "</style>\n",
       "<table border=\"1\" class=\"dataframe\">\n",
       "  <thead>\n",
       "    <tr style=\"text-align: right;\">\n",
       "      <th></th>\n",
       "      <th>coupleId</th>\n",
       "      <th>competitions</th>\n",
       "    </tr>\n",
       "  </thead>\n",
       "  <tbody>\n",
       "    <tr>\n",
       "      <th>0</th>\n",
       "      <td>rls-1780</td>\n",
       "      <td>464</td>\n",
       "    </tr>\n",
       "  </tbody>\n",
       "</table>\n",
       "</div>"
      ],
      "text/plain": [
       "   coupleId  competitions\n",
       "0  rls-1780           464"
      ]
     },
     "execution_count": 37,
     "metadata": {},
     "output_type": "execute_result"
    }
   ],
   "source": [
    "# make a couple count data frame and add the average rank of the couple\n",
    "cpl_count_df = pd.DataFrame(cpl_count).reset_index()\n",
    "\n",
    "cpl_count_df = cpl_count_df.rename(columns={'index':'coupleId', 'coupleId':'competitions'})\n",
    "cpl_count_df.head(1)"
   ]
  },
  {
   "cell_type": "code",
   "execution_count": 38,
   "metadata": {},
   "outputs": [
    {
     "data": {
      "text/html": [
       "<div>\n",
       "<style scoped>\n",
       "    .dataframe tbody tr th:only-of-type {\n",
       "        vertical-align: middle;\n",
       "    }\n",
       "\n",
       "    .dataframe tbody tr th {\n",
       "        vertical-align: top;\n",
       "    }\n",
       "\n",
       "    .dataframe thead th {\n",
       "        text-align: right;\n",
       "    }\n",
       "</style>\n",
       "<table border=\"1\" class=\"dataframe\">\n",
       "  <thead>\n",
       "    <tr style=\"text-align: right;\">\n",
       "      <th></th>\n",
       "      <th>coupleId</th>\n",
       "      <th>nrank</th>\n",
       "    </tr>\n",
       "  </thead>\n",
       "  <tbody>\n",
       "    <tr>\n",
       "      <th>0</th>\n",
       "      <td>wdsf-453999</td>\n",
       "      <td>0.041667</td>\n",
       "    </tr>\n",
       "  </tbody>\n",
       "</table>\n",
       "</div>"
      ],
      "text/plain": [
       "      coupleId     nrank\n",
       "0  wdsf-453999  0.041667"
      ]
     },
     "execution_count": 38,
     "metadata": {},
     "output_type": "execute_result"
    }
   ],
   "source": [
    "# create a data frame for couple rankings for each competition\n",
    "rank_df = cplcomp_df[['coupleId', 'nrank']]\n",
    "rank_df.head(1)"
   ]
  },
  {
   "cell_type": "code",
   "execution_count": 39,
   "metadata": {},
   "outputs": [
    {
     "data": {
      "text/html": [
       "<div>\n",
       "<style scoped>\n",
       "    .dataframe tbody tr th:only-of-type {\n",
       "        vertical-align: middle;\n",
       "    }\n",
       "\n",
       "    .dataframe tbody tr th {\n",
       "        vertical-align: top;\n",
       "    }\n",
       "\n",
       "    .dataframe thead th {\n",
       "        text-align: right;\n",
       "    }\n",
       "</style>\n",
       "<table border=\"1\" class=\"dataframe\">\n",
       "  <thead>\n",
       "    <tr style=\"text-align: right;\">\n",
       "      <th></th>\n",
       "      <th>coupleId</th>\n",
       "      <th>nrank</th>\n",
       "    </tr>\n",
       "  </thead>\n",
       "  <tbody>\n",
       "    <tr>\n",
       "      <th>0</th>\n",
       "      <td>rls-1</td>\n",
       "      <td>0.264802</td>\n",
       "    </tr>\n",
       "  </tbody>\n",
       "</table>\n",
       "</div>"
      ],
      "text/plain": [
       "  coupleId     nrank\n",
       "0    rls-1  0.264802"
      ]
     },
     "execution_count": 39,
     "metadata": {},
     "output_type": "execute_result"
    }
   ],
   "source": [
    "# get the average of a couple's ranking for all competitions for each couple\n",
    "\n",
    "rank_df = rank_df.groupby('coupleId')\n",
    "mean_rank = rank_df.mean().reset_index()\n",
    "mean_rank.head(1)"
   ]
  },
  {
   "cell_type": "code",
   "execution_count": 40,
   "metadata": {},
   "outputs": [
    {
     "data": {
      "text/html": [
       "<div>\n",
       "<style scoped>\n",
       "    .dataframe tbody tr th:only-of-type {\n",
       "        vertical-align: middle;\n",
       "    }\n",
       "\n",
       "    .dataframe tbody tr th {\n",
       "        vertical-align: top;\n",
       "    }\n",
       "\n",
       "    .dataframe thead th {\n",
       "        text-align: right;\n",
       "    }\n",
       "</style>\n",
       "<table border=\"1\" class=\"dataframe\">\n",
       "  <thead>\n",
       "    <tr style=\"text-align: right;\">\n",
       "      <th></th>\n",
       "      <th>coupleId</th>\n",
       "      <th>competitions</th>\n",
       "      <th>nrank</th>\n",
       "    </tr>\n",
       "  </thead>\n",
       "  <tbody>\n",
       "    <tr>\n",
       "      <th>0</th>\n",
       "      <td>rls-1780</td>\n",
       "      <td>464</td>\n",
       "      <td>0.332178</td>\n",
       "    </tr>\n",
       "  </tbody>\n",
       "</table>\n",
       "</div>"
      ],
      "text/plain": [
       "   coupleId  competitions     nrank\n",
       "0  rls-1780           464  0.332178"
      ]
     },
     "execution_count": 40,
     "metadata": {},
     "output_type": "execute_result"
    }
   ],
   "source": [
    "# create data frame with number of competitions and nrank\n",
    "\n",
    "cpl_count_df = pd.merge(cpl_count_df, mean_rank, left_on = 'coupleId', right_on = 'coupleId', how = 'left')\n",
    "cpl_count_df.head(1)"
   ]
  },
  {
   "cell_type": "code",
   "execution_count": 41,
   "metadata": {},
   "outputs": [],
   "source": [
    "# make data frame for couples that have competed in more than 25 competitions\n",
    "cpl_count_df = cpl_count_df[cpl_count_df['competitions'] > 25]"
   ]
  },
  {
   "cell_type": "code",
   "execution_count": 42,
   "metadata": {},
   "outputs": [
    {
     "name": "stdout",
     "output_type": "stream",
     "text": [
      "-0.24566112029721102\n"
     ]
    }
   ],
   "source": [
    "# find correlation between number of competitions the couple participated in and the rank of the couple\n",
    "print(cpl_count_df['competitions'].corr(cpl_count_df['nrank']))"
   ]
  },
  {
   "cell_type": "code",
   "execution_count": 43,
   "metadata": {},
   "outputs": [
    {
     "data": {
      "image/png": "[encoded data removed]",
      "text/plain": [
       "<Figure size 1440x720 with 1 Axes>"
      ]
     },
     "metadata": {
      "needs_background": "light"
     },
     "output_type": "display_data"
    }
   ],
   "source": [
    "# create scatterplot\n",
    "import matplotlib.pyplot as plt\n",
    "\n",
    "cpl_count_df.plot('competitions', 'nrank', kind='scatter', figsize = (20,10))\n",
    "plt.xlabel('number of competitions')\n",
    "plt.ylabel('nrank')\n",
    "plt.title(\"The relationship between number of competitions and average ranking of a couple\")\n",
    "plt.show()"
   ]
  },
  {
   "cell_type": "markdown",
   "metadata": {},
   "source": [
    "There does not appear to be a strong relationship between the number of times a couple has competed and that couple's average overall ranking. Though once the number of competitions reaches 100, there are more points on the bottom half than on the top half. This shows that the couples that have competed in 100 or more competitions tend to have an \"nrank\" value lower than the average nrank of 0.4. Note that a lower nrank is a better score.\n",
    "\n",
    "I will now separate the couples into groups according to the number of competitions they have participated in, and then compare the medians between these groups:"
   ]
  },
  {
   "cell_type": "code",
   "execution_count": 102,
   "metadata": {},
   "outputs": [],
   "source": [
    "# drop outliers\n",
    "cpl_count_df = cpl_count_df[cpl_count_df['competitions'] <= 300]\n",
    "\n",
    "# create bins for number of competitions per couple\n",
    "bin1 = cpl_count_df[cpl_count_df['competitions'] <= 50]\n",
    "bin2 = cpl_count_df[(cpl_count_df['competitions'] > 50) & (cpl_count_df['competitions'] <= 100)]\n",
    "bin3 = cpl_count_df[(cpl_count_df['competitions'] > 100) & (cpl_count_df['competitions'] <= 150)]\n",
    "bin4 = cpl_count_df[(cpl_count_df['competitions'] > 150) & (cpl_count_df['competitions'] <= 200)]\n",
    "bin5 = cpl_count_df[(cpl_count_df['competitions'] > 200) & (cpl_count_df['competitions'] <= 250)]\n",
    "bin6 = cpl_count_df[(cpl_count_df['competitions'] > 250) & (cpl_count_df['competitions'] <= 300)]"
   ]
  },
  {
   "cell_type": "code",
   "execution_count": 46,
   "metadata": {},
   "outputs": [
    {
     "name": "stdout",
     "output_type": "stream",
     "text": [
      "0.4589214646171973 0.3651370476918469 0.3155489875062879 0.24237445760548187 0.2150850378170312 0.21901178623495582\n"
     ]
    }
   ],
   "source": [
    "# find the medians of the ranks for each bin\n",
    "\n",
    "med1 = bin1['nrank'].median()\n",
    "med2 = bin2['nrank'].median()\n",
    "med3 = bin3['nrank'].median()\n",
    "med4 = bin4['nrank'].median()\n",
    "med5 = bin5['nrank'].median()\n",
    "med6 = bin6['nrank'].median()\n",
    "\n",
    "print(med1, med2, med3, med4, med5, med6)"
   ]
  },
  {
   "cell_type": "markdown",
   "metadata": {},
   "source": [
    "The median ranks do decrease as the number of competitions increase, except for the last two groups with more than 200 competitions. \n",
    "\n",
    "The Kruskal Wallis test can be used to determine if the differences between these medians are statistically significant. It is also appropriate to use the Kruskal Wallis test for this data set because the test does not require that the data be normally distributed. "
   ]
  },
  {
   "cell_type": "code",
   "execution_count": 47,
   "metadata": {},
   "outputs": [
    {
     "data": {
      "text/plain": [
       "KruskalResult(statistic=347.07579378373157, pvalue=7.458521103259943e-73)"
      ]
     },
     "execution_count": 47,
     "metadata": {},
     "output_type": "execute_result"
    }
   ],
   "source": [
    "from scipy import stats\n",
    "\n",
    "# kruskal wallis test\n",
    "stats.kruskal(bin1['nrank'], bin2['nrank'], bin3['nrank'], bin4['nrank'], bin5['nrank'], bin6['nrank'])"
   ]
  },
  {
   "cell_type": "markdown",
   "metadata": {},
   "source": [
    "Because of the small p-value, the null hypothesis (that the medians are all equal) is rejected. This indicates that there is at least one difference between the medians somewhere, though the test does not indicate between which groups the differences exist. The posthoc Dunn test can be used to indicate where there are differences between the medians. The Dunn test also does not require that the data be normally distributed. "
   ]
  },
  {
   "cell_type": "code",
   "execution_count": 114,
   "metadata": {},
   "outputs": [],
   "source": [
    "# make a dataframe that can be used for the posthoc_dunn function from the scikit_posthoc package\n",
    "\n",
    "bin1['group'] = '<50'\n",
    "bin2['group'] = '50-99'\n",
    "bin3['group'] = '100-149'\n",
    "bin4['group'] = '150-199'\n",
    "bin5['group'] = '200-249'\n",
    "bin6['group'] = '250-299'\n",
    "\n",
    "bin_df = pd.concat([bin1, bin2, bin3, bin4, bin5, bin6])"
   ]
  },
  {
   "cell_type": "code",
   "execution_count": 117,
   "metadata": {},
   "outputs": [
    {
     "data": {
      "text/html": [
       "<div>\n",
       "<style scoped>\n",
       "    .dataframe tbody tr th:only-of-type {\n",
       "        vertical-align: middle;\n",
       "    }\n",
       "\n",
       "    .dataframe tbody tr th {\n",
       "        vertical-align: top;\n",
       "    }\n",
       "\n",
       "    .dataframe thead th {\n",
       "        text-align: right;\n",
       "    }\n",
       "</style>\n",
       "<table border=\"1\" class=\"dataframe\">\n",
       "  <thead>\n",
       "    <tr style=\"text-align: right;\">\n",
       "      <th></th>\n",
       "      <th>100-149</th>\n",
       "      <th>150-199</th>\n",
       "      <th>200-249</th>\n",
       "      <th>250-299</th>\n",
       "      <th>50-99</th>\n",
       "      <th>&lt;50</th>\n",
       "    </tr>\n",
       "  </thead>\n",
       "  <tbody>\n",
       "    <tr>\n",
       "      <th>100-149</th>\n",
       "      <td>1.000000e+00</td>\n",
       "      <td>6.946469e-03</td>\n",
       "      <td>8.237328e-03</td>\n",
       "      <td>0.379584</td>\n",
       "      <td>8.105693e-05</td>\n",
       "      <td>6.988964e-30</td>\n",
       "    </tr>\n",
       "    <tr>\n",
       "      <th>150-199</th>\n",
       "      <td>6.946469e-03</td>\n",
       "      <td>1.000000e+00</td>\n",
       "      <td>6.113644e-01</td>\n",
       "      <td>0.904144</td>\n",
       "      <td>3.895300e-07</td>\n",
       "      <td>5.692969e-19</td>\n",
       "    </tr>\n",
       "    <tr>\n",
       "      <th>200-249</th>\n",
       "      <td>8.237328e-03</td>\n",
       "      <td>6.113644e-01</td>\n",
       "      <td>1.000000e+00</td>\n",
       "      <td>0.703836</td>\n",
       "      <td>1.442034e-05</td>\n",
       "      <td>1.284796e-12</td>\n",
       "    </tr>\n",
       "    <tr>\n",
       "      <th>250-299</th>\n",
       "      <td>3.795842e-01</td>\n",
       "      <td>9.041439e-01</td>\n",
       "      <td>7.038359e-01</td>\n",
       "      <td>1.000000</td>\n",
       "      <td>1.032373e-01</td>\n",
       "      <td>3.642686e-03</td>\n",
       "    </tr>\n",
       "    <tr>\n",
       "      <th>50-99</th>\n",
       "      <td>8.105693e-05</td>\n",
       "      <td>3.895300e-07</td>\n",
       "      <td>1.442034e-05</td>\n",
       "      <td>0.103237</td>\n",
       "      <td>1.000000e+00</td>\n",
       "      <td>2.160936e-37</td>\n",
       "    </tr>\n",
       "    <tr>\n",
       "      <th>&lt;50</th>\n",
       "      <td>6.988964e-30</td>\n",
       "      <td>5.692969e-19</td>\n",
       "      <td>1.284796e-12</td>\n",
       "      <td>0.003643</td>\n",
       "      <td>2.160936e-37</td>\n",
       "      <td>1.000000e+00</td>\n",
       "    </tr>\n",
       "  </tbody>\n",
       "</table>\n",
       "</div>"
      ],
      "text/plain": [
       "              100-149       150-199       200-249   250-299         50-99  \\\n",
       "100-149  1.000000e+00  6.946469e-03  8.237328e-03  0.379584  8.105693e-05   \n",
       "150-199  6.946469e-03  1.000000e+00  6.113644e-01  0.904144  3.895300e-07   \n",
       "200-249  8.237328e-03  6.113644e-01  1.000000e+00  0.703836  1.442034e-05   \n",
       "250-299  3.795842e-01  9.041439e-01  7.038359e-01  1.000000  1.032373e-01   \n",
       "50-99    8.105693e-05  3.895300e-07  1.442034e-05  0.103237  1.000000e+00   \n",
       "<50      6.988964e-30  5.692969e-19  1.284796e-12  0.003643  2.160936e-37   \n",
       "\n",
       "                  <50  \n",
       "100-149  6.988964e-30  \n",
       "150-199  5.692969e-19  \n",
       "200-249  1.284796e-12  \n",
       "250-299  3.642686e-03  \n",
       "50-99    2.160936e-37  \n",
       "<50      1.000000e+00  "
      ]
     },
     "execution_count": 117,
     "metadata": {},
     "output_type": "execute_result"
    }
   ],
   "source": [
    "sp.posthoc_dunn(bin_df, val_col='nrank', group_col='group')"
   ]
  },
  {
   "cell_type": "markdown",
   "metadata": {},
   "source": [
    "The p-values indicate that the medians are significant between most groups. However, we can not conclude that the median ranking is different for the group that competed in 250-299 competitions. This suggests that as the number of competitions that a couple has competed in increases, their median score does improve until the number of competitions reaches 200. After 200 competitions, there does not appear to be a difference in a couple's overall score."
   ]
  },
  {
   "cell_type": "markdown",
   "metadata": {},
   "source": [
    "### Genres\n",
    "\n",
    "Do couples that dance a wider variety of genres perform better or worse in competitions? "
   ]
  },
  {
   "cell_type": "code",
   "execution_count": 197,
   "metadata": {},
   "outputs": [],
   "source": [
    "dance_counts = cplcomp_df.groupby('coupleId')\n",
    "\n",
    "# get a list of couple IDs\n",
    "cplId_list = cpl_count_df['coupleId'].tolist()"
   ]
  },
  {
   "cell_type": "code",
   "execution_count": 203,
   "metadata": {},
   "outputs": [],
   "source": [
    "listlength = len(cplId_list)\n",
    "# initialize a list for the number of dance genres for a couple\n",
    "dancenums = []\n",
    "\n",
    "# iterate through each couple ID, and count how many genres of dance that couple has danced throughout all of their \n",
    "#  competitions\n",
    "for i in range(listlength):\n",
    "    cplId = cplId_list[i]\n",
    "    couple = dance_counts.get_group(cplId)\n",
    "    dances = couple.iloc[:, 8:18].apply(pd.value_counts).sum(axis=1)\n",
    "    dancenum = len(dances)\n",
    "    dancenums.append(dancenum)\n",
    "    \n",
    "# add a couple's \"genre count\" to a dataframe\n",
    "cpl_count_df['genre_count'] = dancenums"
   ]
  },
  {
   "cell_type": "code",
   "execution_count": 613,
   "metadata": {},
   "outputs": [
    {
     "data": {
      "text/plain": [
       "array([11,  6,  7, 12,  2], dtype=int64)"
      ]
     },
     "execution_count": 613,
     "metadata": {},
     "output_type": "execute_result"
    }
   ],
   "source": [
    "cpl_count_df['genre_count'].unique()"
   ]
  },
  {
   "cell_type": "markdown",
   "metadata": {},
   "source": [
    "Under the \"genre_count\" column, there are 5 different unique values: 2, 6, 7, 11, and 12. Because \"NONE\" has been counted in genre_count, 1 can be subtracted from each of these values. The couples can be separated into two groups: those who have danced 5-6 genres and those who have danced 10-11 genres. There are not any couples here that have danced 7-9 different genres."
   ]
  },
  {
   "cell_type": "code",
   "execution_count": 216,
   "metadata": {},
   "outputs": [],
   "source": [
    "# drop if a couple's genre count is 1\n",
    "cpl_count_df = cpl_count_df[cpl_count_df['genre_count'] > 1]"
   ]
  },
  {
   "cell_type": "code",
   "execution_count": 221,
   "metadata": {},
   "outputs": [
    {
     "name": "stdout",
     "output_type": "stream",
     "text": [
      "group 1 mean:\n",
      "0.4151328690335027\n",
      "group 1 median:\n",
      "0.38716562316451875\n",
      "group 2 mean:\n",
      "0.4844879356132811\n",
      "group 2 median:\n",
      "0.4732716833203933\n"
     ]
    }
   ],
   "source": [
    "# create a data frame for the couples that have danced 7 or less genres and another data frame for the couples that have \n",
    "# danced more than 7 genres\n",
    "group1 = cpl_count_df[cpl_count_df['genre_count'] < 8]\n",
    "group2 = cpl_count_df[cpl_count_df['genre_count'] > 7]\n",
    "\n",
    "med1 = group1['nrank'].median()\n",
    "med2 = group2['nrank'].median()\n",
    "mean1 = group1['nrank'].mean()\n",
    "mean2 = group2['nrank'].mean()\n",
    "\n",
    "print('group 1 mean:', mean1, 'group 1 median:', med1, 'group 2 mean:', mean2, 'group 2 median:', med2, sep='\\n')"
   ]
  },
  {
   "cell_type": "markdown",
   "metadata": {},
   "source": [
    "The means and medians for the couples that have danced 5-6 genres are lower than the means and medians for the couples that have dances 10-11 genres. Because a lower \"nrank\" is a better score, this means that the couples that have danced fewer genres have better mean and median scores."
   ]
  },
  {
   "cell_type": "code",
   "execution_count": 242,
   "metadata": {},
   "outputs": [
    {
     "data": {
      "text/html": [
       "<div>\n",
       "<style scoped>\n",
       "    .dataframe tbody tr th:only-of-type {\n",
       "        vertical-align: middle;\n",
       "    }\n",
       "\n",
       "    .dataframe tbody tr th {\n",
       "        vertical-align: top;\n",
       "    }\n",
       "\n",
       "    .dataframe thead th {\n",
       "        text-align: right;\n",
       "    }\n",
       "</style>\n",
       "<table border=\"1\" class=\"dataframe\">\n",
       "  <thead>\n",
       "    <tr style=\"text-align: right;\">\n",
       "      <th></th>\n",
       "      <th>competitions</th>\n",
       "      <th>nrank</th>\n",
       "      <th>genre_count</th>\n",
       "    </tr>\n",
       "  </thead>\n",
       "  <tbody>\n",
       "    <tr>\n",
       "      <th>count</th>\n",
       "      <td>2262.000000</td>\n",
       "      <td>2262.000000</td>\n",
       "      <td>2262.000000</td>\n",
       "    </tr>\n",
       "    <tr>\n",
       "      <th>mean</th>\n",
       "      <td>57.974359</td>\n",
       "      <td>0.415133</td>\n",
       "      <td>6.041998</td>\n",
       "    </tr>\n",
       "    <tr>\n",
       "      <th>std</th>\n",
       "      <td>38.209290</td>\n",
       "      <td>0.203387</td>\n",
       "      <td>0.221580</td>\n",
       "    </tr>\n",
       "    <tr>\n",
       "      <th>min</th>\n",
       "      <td>26.000000</td>\n",
       "      <td>0.023499</td>\n",
       "      <td>2.000000</td>\n",
       "    </tr>\n",
       "    <tr>\n",
       "      <th>25%</th>\n",
       "      <td>32.000000</td>\n",
       "      <td>0.254157</td>\n",
       "      <td>6.000000</td>\n",
       "    </tr>\n",
       "    <tr>\n",
       "      <th>50%</th>\n",
       "      <td>44.000000</td>\n",
       "      <td>0.387166</td>\n",
       "      <td>6.000000</td>\n",
       "    </tr>\n",
       "    <tr>\n",
       "      <th>75%</th>\n",
       "      <td>70.000000</td>\n",
       "      <td>0.560494</td>\n",
       "      <td>6.000000</td>\n",
       "    </tr>\n",
       "    <tr>\n",
       "      <th>max</th>\n",
       "      <td>289.000000</td>\n",
       "      <td>0.954745</td>\n",
       "      <td>7.000000</td>\n",
       "    </tr>\n",
       "  </tbody>\n",
       "</table>\n",
       "</div>"
      ],
      "text/plain": [
       "       competitions        nrank  genre_count\n",
       "count   2262.000000  2262.000000  2262.000000\n",
       "mean      57.974359     0.415133     6.041998\n",
       "std       38.209290     0.203387     0.221580\n",
       "min       26.000000     0.023499     2.000000\n",
       "25%       32.000000     0.254157     6.000000\n",
       "50%       44.000000     0.387166     6.000000\n",
       "75%       70.000000     0.560494     6.000000\n",
       "max      289.000000     0.954745     7.000000"
      ]
     },
     "execution_count": 242,
     "metadata": {},
     "output_type": "execute_result"
    }
   ],
   "source": [
    "# couples that have danced 5-6 genres\n",
    "group1.describe()"
   ]
  },
  {
   "cell_type": "code",
   "execution_count": 243,
   "metadata": {},
   "outputs": [
    {
     "data": {
      "text/html": [
       "<div>\n",
       "<style scoped>\n",
       "    .dataframe tbody tr th:only-of-type {\n",
       "        vertical-align: middle;\n",
       "    }\n",
       "\n",
       "    .dataframe tbody tr th {\n",
       "        vertical-align: top;\n",
       "    }\n",
       "\n",
       "    .dataframe thead th {\n",
       "        text-align: right;\n",
       "    }\n",
       "</style>\n",
       "<table border=\"1\" class=\"dataframe\">\n",
       "  <thead>\n",
       "    <tr style=\"text-align: right;\">\n",
       "      <th></th>\n",
       "      <th>competitions</th>\n",
       "      <th>nrank</th>\n",
       "      <th>genre_count</th>\n",
       "    </tr>\n",
       "  </thead>\n",
       "  <tbody>\n",
       "    <tr>\n",
       "      <th>count</th>\n",
       "      <td>1617.000000</td>\n",
       "      <td>1617.000000</td>\n",
       "      <td>1617.000000</td>\n",
       "    </tr>\n",
       "    <tr>\n",
       "      <th>mean</th>\n",
       "      <td>57.581323</td>\n",
       "      <td>0.484488</td>\n",
       "      <td>11.027829</td>\n",
       "    </tr>\n",
       "    <tr>\n",
       "      <th>std</th>\n",
       "      <td>38.315696</td>\n",
       "      <td>0.196993</td>\n",
       "      <td>0.164534</td>\n",
       "    </tr>\n",
       "    <tr>\n",
       "      <th>min</th>\n",
       "      <td>26.000000</td>\n",
       "      <td>0.042866</td>\n",
       "      <td>11.000000</td>\n",
       "    </tr>\n",
       "    <tr>\n",
       "      <th>25%</th>\n",
       "      <td>33.000000</td>\n",
       "      <td>0.332094</td>\n",
       "      <td>11.000000</td>\n",
       "    </tr>\n",
       "    <tr>\n",
       "      <th>50%</th>\n",
       "      <td>44.000000</td>\n",
       "      <td>0.473272</td>\n",
       "      <td>11.000000</td>\n",
       "    </tr>\n",
       "    <tr>\n",
       "      <th>75%</th>\n",
       "      <td>67.000000</td>\n",
       "      <td>0.633013</td>\n",
       "      <td>11.000000</td>\n",
       "    </tr>\n",
       "    <tr>\n",
       "      <th>max</th>\n",
       "      <td>296.000000</td>\n",
       "      <td>0.963203</td>\n",
       "      <td>12.000000</td>\n",
       "    </tr>\n",
       "  </tbody>\n",
       "</table>\n",
       "</div>"
      ],
      "text/plain": [
       "       competitions        nrank  genre_count\n",
       "count   1617.000000  1617.000000  1617.000000\n",
       "mean      57.581323     0.484488    11.027829\n",
       "std       38.315696     0.196993     0.164534\n",
       "min       26.000000     0.042866    11.000000\n",
       "25%       33.000000     0.332094    11.000000\n",
       "50%       44.000000     0.473272    11.000000\n",
       "75%       67.000000     0.633013    11.000000\n",
       "max      296.000000     0.963203    12.000000"
      ]
     },
     "execution_count": 243,
     "metadata": {},
     "output_type": "execute_result"
    }
   ],
   "source": [
    "# couples that have danced 10-11 genres\n",
    "group2.describe()"
   ]
  },
  {
   "cell_type": "markdown",
   "metadata": {},
   "source": [
    "The two groups have the same mean number of competitions, and have similar standard deviations.\n",
    "\n",
    "The Mann-Whitney test is appropriate for comparing two groups that aren't normally distributed and have different sample sizes. "
   ]
  },
  {
   "cell_type": "code",
   "execution_count": 229,
   "metadata": {},
   "outputs": [
    {
     "data": {
      "text/plain": [
       "MannwhitneyuResult(statistic=1461583.0, pvalue=1.2774124596383472e-26)"
      ]
     },
     "execution_count": 229,
     "metadata": {},
     "output_type": "execute_result"
    }
   ],
   "source": [
    "import scipy.stats as stats\n",
    "\n",
    "# perform Mann Whitney test to compare the two groups\n",
    "stats.mannwhitneyu(group1['nrank'], group2['nrank'], alternative = 'two-sided')"
   ]
  },
  {
   "cell_type": "markdown",
   "metadata": {},
   "source": [
    "Because the p-value is small, we can reject the null hypothesis that the ranking for the two groups are the same. This suggests that the average rank for couples that have danced less genres is lower (a lower rank is a better score). This may be because couples that focus on a few styles are able to better master those genres and perform better in competitions, as opposed to couples that try many different styles. "
   ]
  },
  {
   "cell_type": "markdown",
   "metadata": {},
   "source": [
    "# Conclusion"
   ]
  },
  {
   "cell_type": "markdown",
   "metadata": {},
   "source": [
    "From looking at the number of countries being represented in competitions every year, we can see that the World DanceSport Federation has been achieving their goal of becoming more international, although the number of countries being represented peaked in 2011, and dropped significantly during the start of the COVID-19 pandemic.\n",
    "\n",
    "In regards to competition performance, couples that have competed in more competitions do have better performance scores up to a certain point; after 200 competitions, couples' scores do not improve. It has also been found that couples that focus on dancing 5-6 different styles have slightly better scores than couples that dance 10-11 different styles. "
   ]
  }
 ],
 "metadata": {
  "kernelspec": {
   "display_name": "Python 3 (ipykernel)",
   "language": "python",
   "name": "python3"
  },
  "language_info": {
   "codemirror_mode": {
    "name": "ipython",
    "version": 3
   },
   "file_extension": ".py",
   "mimetype": "text/x-python",
   "name": "python",
   "nbconvert_exporter": "python",
   "pygments_lexer": "ipython3",
   "version": "3.7.11"
  }
 },
 "nbformat": 4,
 "nbformat_minor": 4
}
