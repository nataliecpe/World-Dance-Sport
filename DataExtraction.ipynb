{
 "cells": [
  {
   "cell_type": "markdown",
   "metadata": {},
   "source": [
    "# Introduction"
   ]
  },
  {
   "cell_type": "markdown",
   "metadata": {},
   "source": [
    "The World DanceSport Federation (WDSF) website contains information about world dance competitions beginning from 1996. The goal of this project is to use the data from the WDSF website to examine why certain competitors perform better than others. The project will proceed as follows:\n",
    "\n",
    "    1. Extract competition data from the WDSF API.\n",
    "    2. Convert data into clean data frames in pandas.\n",
    "    3. Look at the basic properties of the dataset.\n",
    "    4. Investigate if there are factors related to competition performance. "
   ]
  },
  {
   "cell_type": "markdown",
   "metadata": {},
   "source": [
    "# Part 1: Extracting Data from the API"
   ]
  },
  {
   "cell_type": "markdown",
   "metadata": {},
   "source": [
    "For each competition I want to extract the competition IDs, participant IDs, participant names, participant countries, overall participant ranks, and participant scores for each round."
   ]
  },
  {
   "cell_type": "code",
   "execution_count": 1,
   "metadata": {},
   "outputs": [],
   "source": [
    "# import all necessary packages\n",
    "import requests\n",
    "import time\n",
    "import csv"
   ]
  },
  {
   "cell_type": "markdown",
   "metadata": {},
   "source": [
    "\n",
    "https://services.worlddancesport.org/api/1/competition contains the following information for each competition: a link, an ID, a name, and the last modified date. I will use this URL to get the competition IDs and store all of the IDs into a list. The competitions IDs can then be used to access the URLs that contain the participant IDs."
   ]
  },
  {
   "cell_type": "code",
   "execution_count": 6,
   "metadata": {},
   "outputs": [],
   "source": [
    "def get_competitions():\n",
    "    \"\"\"\n",
    "    get information from the competition page of the API\n",
    "    \"\"\"\n",
    "    \n",
    "    comp_url = \"https://services.worlddancesport.org/api/1/competition\"\n",
    "    params = {'format':'json'}\n",
    "    \n",
    "    ## request to competition information page\n",
    "    r = requests.get(comp_url, params=params, auth=(username, password)\n",
    "    \n",
    "    return r"
   ]
  },
  {
   "cell_type": "code",
   "execution_count": 10,
   "metadata": {},
   "outputs": [],
   "source": [
    "response = get_competitions()"
   ]
  },
  {
   "cell_type": "code",
   "execution_count": 13,
   "metadata": {},
   "outputs": [
    {
     "name": "stdout",
     "output_type": "stream",
     "text": [
      "[{'link': [{'href': 'https://services.worlddancesport.org/api/1/competition/35093', 'rel': 'self'}, {'href': 'https://services.worlddancesport.org/api/1/participant?competitionId=35093', 'rel': 'http://services.worlddancesport.org/rel/competition/participants', 'type': 'application/vnd.worlddancesport.participants+json'}, {'href': 'https://services.worlddancesport.org/api/1/official?competitionId=35093', 'rel': 'http://services.worlddancesport.org/rel/competition/officials', 'type': 'application/vnd.worlddancesport.officials+json'}], 'id': 35093, 'name': 'INTERNATIONAL OPEN STANDARD  ADULT - Finland - Finland - 1996/01/04', 'lastmodifiedDate': '2010-11-13T10:16:26'}, {'link': [{'href': 'https://services.worlddancesport.org/api/1/competition/35094', 'rel': 'self'}, {'href': 'https://services.worlddancesport.org/api/1/participant?competitionId=35094', 'rel': 'http://services.worlddancesport.org/rel/competition/participants', 'type': 'application/vnd.worlddancesport.participants+json'}, {\n"
     ]
    }
   ],
   "source": [
    "js = response.json() \n",
    "print(js.__repr__()[0:1000])"
   ]
  },
  {
   "cell_type": "markdown",
   "metadata": {},
   "source": [
    "The get_competitions() function returned a list of dictionaries. Each item in the list corresponds to a single competition."
   ]
  },
  {
   "cell_type": "code",
   "execution_count": 23,
   "metadata": {},
   "outputs": [
    {
     "data": {
      "text/plain": [
       "dict_keys(['link', 'id', 'name', 'lastmodifiedDate'])"
      ]
     },
     "execution_count": 23,
     "metadata": {},
     "output_type": "execute_result"
    }
   ],
   "source": [
    "# js is a list\n",
    "# js[x] is a dict\n",
    "\n",
    "js[2].keys()"
   ]
  },
  {
   "cell_type": "code",
   "execution_count": 33,
   "metadata": {},
   "outputs": [
    {
     "data": {
      "text/plain": [
       "21123"
      ]
     },
     "execution_count": 33,
     "metadata": {},
     "output_type": "execute_result"
    }
   ],
   "source": [
    "len(js)"
   ]
  },
  {
   "cell_type": "markdown",
   "metadata": {},
   "source": [
    "There are 21,123 competitions."
   ]
  },
  {
   "cell_type": "code",
   "execution_count": 36,
   "metadata": {},
   "outputs": [],
   "source": [
    "# make a list of competition IDs\n",
    "\n",
    "compID_list = []\n",
    "\n",
    "for i in range(21123):\n",
    "    compID_list.append(js[i]['id'])"
   ]
  },
  {
   "cell_type": "code",
   "execution_count": 45,
   "metadata": {},
   "outputs": [],
   "source": [
    "# write the competition IDs into a csv file\n",
    "\n",
    "import csv\n",
    "\n",
    "with open('competitionID.csv', 'w') as csvfile:\n",
    "    writer = csv.writer(csvfile, delimiter=',')\n",
    "    writer.writerow(compID_list)"
   ]
  },
  {
   "cell_type": "markdown",
   "metadata": {},
   "source": [
    "The list of competition IDs can be used to extract the participant ID for each participant."
   ]
  },
  {
   "cell_type": "code",
   "execution_count": 84,
   "metadata": {},
   "outputs": [],
   "source": [
    "def get_participantIDs(compID_list):\n",
    "    \"\"\"\n",
    "    Get participant IDs:\n",
    "    Use the competition ID list (compID_list) to get URLs for the participants page in each competion.\n",
    "    Then extract the participant IDs.\n",
    "    \"\"\"\n",
    "    \n",
    "    url = \"https://services.worlddancesport.org/api/1/participant?competitionId=\"\n",
    "    params = {'format':'json'}\n",
    "    partID_list = []\n",
    "    \n",
    "    #loop through compID_list to get participant IDs for each competition\n",
    "    for i in range(len(compID_list)):\n",
    "        compID = compID_list[i]\n",
    "        compID = str(compID)\n",
    "        res = requests.get(url+compID, params=params, auth=(username, password))\n",
    "        res = res.json()\n",
    "        for j in range(len(res)):\n",
    "            partID_list = partID_list.append(res[j]['id'])\n",
    "        time.sleep(.1)\n",
    "        \n",
    "    return partID_list"
   ]
  },
  {
   "cell_type": "code",
   "execution_count": 59,
   "metadata": {},
   "outputs": [],
   "source": [
    "# write participant IDs into a CSV file\n",
    "\n",
    "with open('participantID.csv', 'w') as csvfile:\n",
    "    writer = csv.writer(csvfile, delimiter=',')\n",
    "    writer.writerow(partID_list)"
   ]
  },
  {
   "cell_type": "code",
   "execution_count": 54,
   "metadata": {},
   "outputs": [
    {
     "data": {
      "text/plain": [
       "672128"
      ]
     },
     "execution_count": 54,
     "metadata": {},
     "output_type": "execute_result"
    }
   ],
   "source": [
    "partID_list = get_participantIDs(compID_list)\n",
    "len(partID_list)"
   ]
  },
  {
   "cell_type": "markdown",
   "metadata": {},
   "source": [
    "There are 672,128 participant IDs. Each participant ID has a URL that contains information about the participant, such as the name, country, and competition scores. "
   ]
  },
  {
   "cell_type": "code",
   "execution_count": null,
   "metadata": {},
   "outputs": [],
   "source": [
    "# Initializing a list the size of the participant ID list. \n",
    "# This list will be used to store information for each participant.\n",
    "\n",
    "listlength = len(partID_list)\n",
    "comp_list = [None]*(listlength)"
   ]
  },
  {
   "cell_type": "code",
   "execution_count": 83,
   "metadata": {},
   "outputs": [],
   "source": [
    "def get_scores(partID_list, listlength, comp_list):\n",
    "    \"\"\"\n",
    "    Extract competition information from the API, including scores.\n",
    "    \n",
    "    This function takes in the participant ID list (partID_list), an empty list (comp_list), and an integer that is the \n",
    "    length of partID_list (listlength).\n",
    "    \n",
    "    This function returns a list containing the information for each competition.\n",
    "    \"\"\"  \n",
    "    \n",
    "    url = 'https://services.worlddancesport.org/api/1/participant/'\n",
    "    params = {'format':'json'}\n",
    "    \n",
    "    # loop through each participant ID in order to get the URL and extract competition information\n",
    "    # then add the competition information to a list\n",
    "    for i in range(listlength):\n",
    "        partID = partID_list[i]\n",
    "        partID = str(partID)\n",
    "        resp = requests.get(url+partID, params=params, auth=(username, password))\n",
    "        comp_list[i] = resp.json()\n",
    "        time.sleep(.5)\n",
    "        \n",
    "    return comp_list"
   ]
  },
  {
   "cell_type": "code",
   "execution_count": null,
   "metadata": {},
   "outputs": [],
   "source": [
    "comp_list = get_scores(partID_list, listlength, comp_list)"
   ]
  },
  {
   "cell_type": "code",
   "execution_count": 166,
   "metadata": {},
   "outputs": [],
   "source": [
    "# write competition data into a csv file\n",
    "\n",
    "file = open(\"competitionstats5.csv\", \"w\", encoding=\"utf-8\")\n",
    "dict_writer = csv.DictWriter(file, fieldnames=[\"coupleId\",\"name\",\"country\",\"id\",\"status\",\"basepoints\", \"rank\", \"competitionId\", \"rounds\"], \n",
    "                        extrasaction='ignore')\n",
    "dict_writer.writeheader()\n",
    "dict_writer.writerows(comp_list)\n",
    "\n",
    "file.close()"
   ]
  }
 ],
 "metadata": {
  "kernelspec": {
   "display_name": "Python 3 (ipykernel)",
   "language": "python",
   "name": "python3"
  },
  "language_info": {
   "codemirror_mode": {
    "name": "ipython",
    "version": 3
   },
   "file_extension": ".py",
   "mimetype": "text/x-python",
   "name": "python",
   "nbconvert_exporter": "python",
   "pygments_lexer": "ipython3",
   "version": "3.7.11"
  }
 },
 "nbformat": 4,
 "nbformat_minor": 4
}
